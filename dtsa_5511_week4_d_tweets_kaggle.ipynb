{
  "nbformat": 4,
  "nbformat_minor": 0,
  "metadata": {
    "colab": {
      "provenance": [],
      "gpuType": "T4"
    },
    "kernelspec": {
      "name": "python3",
      "display_name": "Python 3"
    },
    "language_info": {
      "name": "python"
    },
    "accelerator": "GPU"
  },
  "cells": [
    {
      "cell_type": "markdown",
      "source": [
        "The Github repo for this notebook is here:\n",
        "https://github.com/rat-sparebank1/dtsa_5511_week_4"
      ],
      "metadata": {
        "id": "EF1LInmt_Pd_"
      }
    },
    {
      "cell_type": "markdown",
      "source": [
        "## Problem Description\n",
        "This notebook makes a two submissions for the Natural Language Processing with Disaster Tweets Kaggle competition.\n",
        "\n",
        "The problem is as follows:\n",
        "We have a train.csv file that contains tweets. Some of these are related to real life disaster and other not.\n",
        "Those that are related to real life disasters have been labeled with 1, and those that are not are labeled with 0.\n",
        "The goal of the competion is to classify the tweets in the test.csv file with the same labels.\n",
        "\n",
        "The structure of the data is as follows (from https://www.kaggle.com/competitions/nlp-getting-started/data):\n",
        "*  The text of a tweet\n",
        "*  A keyword from that tweet (although this may be blank!)\n",
        "*  The location the tweet was sent from (may also be blank)\n",
        "* For the train file there is a target that contains the labels for the tweets as described before\n",
        "\n",
        "#### My summarized strategy is:\n",
        "1. Get the dataset in a Pandas DataFrame\n",
        "2. Do some text cleaning removing punctuation, special characters, common words (stopwords), making all text in lower case\n",
        "3. Lemmatize the text (merging words that are very similar)\n",
        "4. Tokenize the text (making tokens for sentences)\n",
        "5. Make sequences from the tokenized text\n",
        "6. Pad all sequences so they all have same size\n",
        "7. Run Keras tuner to find the best hyperparameters for the model\n",
        "8. Use the values found by Keras tuner and train two models (one with LSTM and one with GRU)\n",
        "9. Measure the models performances using confusion matrix\n",
        "9. Use the models to predict the targets/labels of the test dataset\n",
        "\n",
        "\n"
      ],
      "metadata": {
        "id": "Dx98DwGq2T7Y"
      }
    },
    {
      "cell_type": "markdown",
      "source": [
        "### Downloading the kaggle dataset and unzipping it\n",
        "First connect to Kaggle and download the dataset"
      ],
      "metadata": {
        "id": "RUrCIVA-vQ0N"
      }
    },
    {
      "cell_type": "code",
      "execution_count": null,
      "metadata": {
        "colab": {
          "base_uri": "https://localhost:8080/",
          "height": 74
        },
        "id": "4ObvvLb5rHLW",
        "outputId": "cbad8301-c6de-4877-955c-9f68802eb29e"
      },
      "outputs": [
        {
          "output_type": "display_data",
          "data": {
            "text/plain": [
              "<IPython.core.display.HTML object>"
            ],
            "text/html": [
              "\n",
              "     <input type=\"file\" id=\"files-46e493ed-d09c-4748-aac2-59275e76d160\" name=\"files[]\" multiple disabled\n",
              "        style=\"border:none\" />\n",
              "     <output id=\"result-46e493ed-d09c-4748-aac2-59275e76d160\">\n",
              "      Upload widget is only available when the cell has been executed in the\n",
              "      current browser session. Please rerun this cell to enable.\n",
              "      </output>\n",
              "      <script>// Copyright 2017 Google LLC\n",
              "//\n",
              "// Licensed under the Apache License, Version 2.0 (the \"License\");\n",
              "// you may not use this file except in compliance with the License.\n",
              "// You may obtain a copy of the License at\n",
              "//\n",
              "//      http://www.apache.org/licenses/LICENSE-2.0\n",
              "//\n",
              "// Unless required by applicable law or agreed to in writing, software\n",
              "// distributed under the License is distributed on an \"AS IS\" BASIS,\n",
              "// WITHOUT WARRANTIES OR CONDITIONS OF ANY KIND, either express or implied.\n",
              "// See the License for the specific language governing permissions and\n",
              "// limitations under the License.\n",
              "\n",
              "/**\n",
              " * @fileoverview Helpers for google.colab Python module.\n",
              " */\n",
              "(function(scope) {\n",
              "function span(text, styleAttributes = {}) {\n",
              "  const element = document.createElement('span');\n",
              "  element.textContent = text;\n",
              "  for (const key of Object.keys(styleAttributes)) {\n",
              "    element.style[key] = styleAttributes[key];\n",
              "  }\n",
              "  return element;\n",
              "}\n",
              "\n",
              "// Max number of bytes which will be uploaded at a time.\n",
              "const MAX_PAYLOAD_SIZE = 100 * 1024;\n",
              "\n",
              "function _uploadFiles(inputId, outputId) {\n",
              "  const steps = uploadFilesStep(inputId, outputId);\n",
              "  const outputElement = document.getElementById(outputId);\n",
              "  // Cache steps on the outputElement to make it available for the next call\n",
              "  // to uploadFilesContinue from Python.\n",
              "  outputElement.steps = steps;\n",
              "\n",
              "  return _uploadFilesContinue(outputId);\n",
              "}\n",
              "\n",
              "// This is roughly an async generator (not supported in the browser yet),\n",
              "// where there are multiple asynchronous steps and the Python side is going\n",
              "// to poll for completion of each step.\n",
              "// This uses a Promise to block the python side on completion of each step,\n",
              "// then passes the result of the previous step as the input to the next step.\n",
              "function _uploadFilesContinue(outputId) {\n",
              "  const outputElement = document.getElementById(outputId);\n",
              "  const steps = outputElement.steps;\n",
              "\n",
              "  const next = steps.next(outputElement.lastPromiseValue);\n",
              "  return Promise.resolve(next.value.promise).then((value) => {\n",
              "    // Cache the last promise value to make it available to the next\n",
              "    // step of the generator.\n",
              "    outputElement.lastPromiseValue = value;\n",
              "    return next.value.response;\n",
              "  });\n",
              "}\n",
              "\n",
              "/**\n",
              " * Generator function which is called between each async step of the upload\n",
              " * process.\n",
              " * @param {string} inputId Element ID of the input file picker element.\n",
              " * @param {string} outputId Element ID of the output display.\n",
              " * @return {!Iterable<!Object>} Iterable of next steps.\n",
              " */\n",
              "function* uploadFilesStep(inputId, outputId) {\n",
              "  const inputElement = document.getElementById(inputId);\n",
              "  inputElement.disabled = false;\n",
              "\n",
              "  const outputElement = document.getElementById(outputId);\n",
              "  outputElement.innerHTML = '';\n",
              "\n",
              "  const pickedPromise = new Promise((resolve) => {\n",
              "    inputElement.addEventListener('change', (e) => {\n",
              "      resolve(e.target.files);\n",
              "    });\n",
              "  });\n",
              "\n",
              "  const cancel = document.createElement('button');\n",
              "  inputElement.parentElement.appendChild(cancel);\n",
              "  cancel.textContent = 'Cancel upload';\n",
              "  const cancelPromise = new Promise((resolve) => {\n",
              "    cancel.onclick = () => {\n",
              "      resolve(null);\n",
              "    };\n",
              "  });\n",
              "\n",
              "  // Wait for the user to pick the files.\n",
              "  const files = yield {\n",
              "    promise: Promise.race([pickedPromise, cancelPromise]),\n",
              "    response: {\n",
              "      action: 'starting',\n",
              "    }\n",
              "  };\n",
              "\n",
              "  cancel.remove();\n",
              "\n",
              "  // Disable the input element since further picks are not allowed.\n",
              "  inputElement.disabled = true;\n",
              "\n",
              "  if (!files) {\n",
              "    return {\n",
              "      response: {\n",
              "        action: 'complete',\n",
              "      }\n",
              "    };\n",
              "  }\n",
              "\n",
              "  for (const file of files) {\n",
              "    const li = document.createElement('li');\n",
              "    li.append(span(file.name, {fontWeight: 'bold'}));\n",
              "    li.append(span(\n",
              "        `(${file.type || 'n/a'}) - ${file.size} bytes, ` +\n",
              "        `last modified: ${\n",
              "            file.lastModifiedDate ? file.lastModifiedDate.toLocaleDateString() :\n",
              "                                    'n/a'} - `));\n",
              "    const percent = span('0% done');\n",
              "    li.appendChild(percent);\n",
              "\n",
              "    outputElement.appendChild(li);\n",
              "\n",
              "    const fileDataPromise = new Promise((resolve) => {\n",
              "      const reader = new FileReader();\n",
              "      reader.onload = (e) => {\n",
              "        resolve(e.target.result);\n",
              "      };\n",
              "      reader.readAsArrayBuffer(file);\n",
              "    });\n",
              "    // Wait for the data to be ready.\n",
              "    let fileData = yield {\n",
              "      promise: fileDataPromise,\n",
              "      response: {\n",
              "        action: 'continue',\n",
              "      }\n",
              "    };\n",
              "\n",
              "    // Use a chunked sending to avoid message size limits. See b/62115660.\n",
              "    let position = 0;\n",
              "    do {\n",
              "      const length = Math.min(fileData.byteLength - position, MAX_PAYLOAD_SIZE);\n",
              "      const chunk = new Uint8Array(fileData, position, length);\n",
              "      position += length;\n",
              "\n",
              "      const base64 = btoa(String.fromCharCode.apply(null, chunk));\n",
              "      yield {\n",
              "        response: {\n",
              "          action: 'append',\n",
              "          file: file.name,\n",
              "          data: base64,\n",
              "        },\n",
              "      };\n",
              "\n",
              "      let percentDone = fileData.byteLength === 0 ?\n",
              "          100 :\n",
              "          Math.round((position / fileData.byteLength) * 100);\n",
              "      percent.textContent = `${percentDone}% done`;\n",
              "\n",
              "    } while (position < fileData.byteLength);\n",
              "  }\n",
              "\n",
              "  // All done.\n",
              "  yield {\n",
              "    response: {\n",
              "      action: 'complete',\n",
              "    }\n",
              "  };\n",
              "}\n",
              "\n",
              "scope.google = scope.google || {};\n",
              "scope.google.colab = scope.google.colab || {};\n",
              "scope.google.colab._files = {\n",
              "  _uploadFiles,\n",
              "  _uploadFilesContinue,\n",
              "};\n",
              "})(self);\n",
              "</script> "
            ]
          },
          "metadata": {}
        },
        {
          "output_type": "stream",
          "name": "stdout",
          "text": [
            "Saving kaggle.json to kaggle.json\n"
          ]
        }
      ],
      "source": [
        "! pip install -q kaggle\n",
        "from google.colab import files\n",
        "files.upload()\n",
        "! mkdir ~/.kaggle\n",
        "! cp kaggle.json ~/.kaggle/\n",
        "! chmod 600 ~/.kaggle/kaggle.json"
      ]
    },
    {
      "cell_type": "code",
      "source": [
        "! kaggle competitions download -c 'nlp-getting-started'\n",
        "! mkdir dataset\n",
        "! unzip -qq nlp-getting-started.zip -d dataset"
      ],
      "metadata": {
        "colab": {
          "base_uri": "https://localhost:8080/"
        },
        "id": "n7Ub5S5DrR0N",
        "outputId": "e803f795-3130-498d-b3f1-428477603e5b"
      },
      "execution_count": null,
      "outputs": [
        {
          "output_type": "stream",
          "name": "stdout",
          "text": [
            "Downloading nlp-getting-started.zip to /content\n",
            "100% 593k/593k [00:00<00:00, 1.41MB/s]\n",
            "100% 593k/593k [00:00<00:00, 1.41MB/s]\n"
          ]
        }
      ]
    },
    {
      "cell_type": "markdown",
      "source": [
        "### Import the needed modules for this task"
      ],
      "metadata": {
        "id": "UYS48lj24Ofn"
      }
    },
    {
      "cell_type": "code",
      "source": [
        "!pip install -q -U keras-tuner"
      ],
      "metadata": {
        "colab": {
          "base_uri": "https://localhost:8080/"
        },
        "id": "bjmxUbD2GyzD",
        "outputId": "915c3c8d-89da-4ef9-e5ab-0fd98e88a6d9"
      },
      "execution_count": null,
      "outputs": [
        {
          "output_type": "stream",
          "name": "stdout",
          "text": [
            "\u001b[?25l     \u001b[90m━━━━━━━━━━━━━━━━━━━━━━━━━━━━━━━━━━━━━━━━\u001b[0m \u001b[32m0.0/129.1 kB\u001b[0m \u001b[31m?\u001b[0m eta \u001b[36m-:--:--\u001b[0m\r\u001b[2K     \u001b[90m━━━━━━━━━━━━━━━━━━━━━━━━━━━━━━━━━━━━━━━━\u001b[0m \u001b[32m129.1/129.1 kB\u001b[0m \u001b[31m4.2 MB/s\u001b[0m eta \u001b[36m0:00:00\u001b[0m\n",
            "\u001b[?25h"
          ]
        }
      ]
    },
    {
      "cell_type": "code",
      "source": [
        "import pandas as pd\n",
        "import numpy as np\n",
        "import matplotlib.pyplot as plt\n",
        "import seaborn as sns\n",
        "import re\n",
        "import string\n",
        "import nltk\n",
        "from nltk.corpus import stopwords\n",
        "from nltk.tokenize import word_tokenize\n",
        "from nltk.stem import WordNetLemmatizer\n",
        "from collections import Counter\n",
        "from sklearn.model_selection import train_test_split\n",
        "from sklearn import metrics\n",
        "import tensorflow as tf\n",
        "import keras_tuner as kt\n",
        "from tensorflow.keras.optimizers import Adam\n",
        "from tensorflow.keras.utils import pad_sequences\n",
        "from tensorflow.keras.preprocessing.text import Tokenizer\n",
        "from tensorflow.keras.models import Sequential\n",
        "from tensorflow.keras.layers import LSTM, GRU, Dense, Embedding, Dropout\n"
      ],
      "metadata": {
        "id": "YnJc2pt_viOm"
      },
      "execution_count": null,
      "outputs": []
    },
    {
      "cell_type": "markdown",
      "source": [
        "## EDA\n",
        "\n",
        "My EDA strategy is:\n",
        "1. Get the data into a dataframe\n",
        "2. Run info() on the dataframe to get a sense of how big it is, is there are many NaN values\n",
        "3. Print head() to have a sense about how the tweet text looks\n",
        "4. Visualize the distribution to get a sense about how the label distribution is (if balance, somehow inbalanced or very inbalanced)\n",
        "5. After the text is cleaned I will take a look at the most common words\n"
      ],
      "metadata": {
        "id": "R2w68C-wwIMz"
      }
    },
    {
      "cell_type": "markdown",
      "source": [
        "### Loading the train dataset in a Pandas DataFrame"
      ],
      "metadata": {
        "id": "TR6Z8tisvbbv"
      }
    },
    {
      "cell_type": "code",
      "source": [
        "df = pd.read_csv('/content/dataset/train.csv')\n",
        "print(df.head())\n",
        "print(df.info())"
      ],
      "metadata": {
        "colab": {
          "base_uri": "https://localhost:8080/"
        },
        "id": "J5bFe2Mvvnos",
        "outputId": "ae5f2be4-4597-4225-90a1-a9730abe968b"
      },
      "execution_count": null,
      "outputs": [
        {
          "output_type": "stream",
          "name": "stdout",
          "text": [
            "   id keyword location                                               text  \\\n",
            "0   1     NaN      NaN  Our Deeds are the Reason of this #earthquake M...   \n",
            "1   4     NaN      NaN             Forest fire near La Ronge Sask. Canada   \n",
            "2   5     NaN      NaN  All residents asked to 'shelter in place' are ...   \n",
            "3   6     NaN      NaN  13,000 people receive #wildfires evacuation or...   \n",
            "4   7     NaN      NaN  Just got sent this photo from Ruby #Alaska as ...   \n",
            "\n",
            "   target  \n",
            "0       1  \n",
            "1       1  \n",
            "2       1  \n",
            "3       1  \n",
            "4       1  \n",
            "<class 'pandas.core.frame.DataFrame'>\n",
            "RangeIndex: 7613 entries, 0 to 7612\n",
            "Data columns (total 5 columns):\n",
            " #   Column    Non-Null Count  Dtype \n",
            "---  ------    --------------  ----- \n",
            " 0   id        7613 non-null   int64 \n",
            " 1   keyword   7552 non-null   object\n",
            " 2   location  5080 non-null   object\n",
            " 3   text      7613 non-null   object\n",
            " 4   target    7613 non-null   int64 \n",
            "dtypes: int64(2), object(3)\n",
            "memory usage: 297.5+ KB\n",
            "None\n"
          ]
        }
      ]
    },
    {
      "cell_type": "code",
      "source": [
        "keyword_nan = df.keyword.isna().sum()\n",
        "location_nan = df.location.isna().sum()\n",
        "\n",
        "keyword_null = df.keyword.isnull().sum()\n",
        "location_null = df.location.isnull().sum()\n",
        "\n",
        "print(\"Keyword nans: \", keyword_nan)\n",
        "print(\"Location nans: \", location_nan)\n",
        "print(\"Keyword nulls: \", keyword_null)\n",
        "print(\"Location nulls: \", location_null)"
      ],
      "metadata": {
        "colab": {
          "base_uri": "https://localhost:8080/"
        },
        "id": "Ze-Cw7-uxR2G",
        "outputId": "eddd25fd-cdc6-4567-dc50-0074702176fe"
      },
      "execution_count": null,
      "outputs": [
        {
          "output_type": "stream",
          "name": "stdout",
          "text": [
            "Keyword nans:  61\n",
            "Location nans:  2533\n",
            "Keyword nulls:  61\n",
            "Location nulls:  2533\n"
          ]
        }
      ]
    },
    {
      "cell_type": "markdown",
      "source": [
        "From the previous analysis seems that keyword have few NaN but about 1/3 of the tweets lack location so I will keep keyword, but drop location.\n",
        "\n",
        "For keywords with nan value, i will fill the nan with value \"ingen_noekkelord\"\n",
        "\n",
        "NB: Later in my analysis I decided to not use keywords anyway"
      ],
      "metadata": {
        "id": "Rof9gJ1hySUK"
      }
    },
    {
      "cell_type": "code",
      "source": [
        "df = df.drop(\"location\", axis=1)\n",
        "df.keyword = df.keyword.fillna(value=\"ingen_noekkelord\")\n",
        "\n",
        "print(df.head())"
      ],
      "metadata": {
        "colab": {
          "base_uri": "https://localhost:8080/"
        },
        "id": "Bl7vhFfHyexZ",
        "outputId": "090c587b-6a2c-4951-e00e-a74b932b1998"
      },
      "execution_count": null,
      "outputs": [
        {
          "output_type": "stream",
          "name": "stdout",
          "text": [
            "   id           keyword                                               text  \\\n",
            "0   1  ingen_noekkelord  Our Deeds are the Reason of this #earthquake M...   \n",
            "1   4  ingen_noekkelord             Forest fire near La Ronge Sask. Canada   \n",
            "2   5  ingen_noekkelord  All residents asked to 'shelter in place' are ...   \n",
            "3   6  ingen_noekkelord  13,000 people receive #wildfires evacuation or...   \n",
            "4   7  ingen_noekkelord  Just got sent this photo from Ruby #Alaska as ...   \n",
            "\n",
            "   target  \n",
            "0       1  \n",
            "1       1  \n",
            "2       1  \n",
            "3       1  \n",
            "4       1  \n"
          ]
        }
      ]
    },
    {
      "cell_type": "markdown",
      "source": [
        "We take a look at the distribution of tweets, using the target"
      ],
      "metadata": {
        "id": "XFCab47MzbKU"
      }
    },
    {
      "cell_type": "code",
      "source": [
        "\n",
        "value_counts = df.target.value_counts()\n",
        "\n",
        "plt.style.use('dark_background')\n",
        "plt.figure(figsize=(8,8))\n",
        "plt.pie(value_counts, labels= value_counts.index, startangle=90)\n",
        "plt.title(\"Distribution of tweets in the train dataset\")\n",
        "plt.show()"
      ],
      "metadata": {
        "colab": {
          "base_uri": "https://localhost:8080/",
          "height": 675
        },
        "id": "_sdYoTVkzyLH",
        "outputId": "6b04e3d8-8698-4e41-c121-4efb5fd4f798"
      },
      "execution_count": null,
      "outputs": [
        {
          "output_type": "display_data",
          "data": {
            "text/plain": [
              "<Figure size 800x800 with 1 Axes>"
            ],
            "image/png": "[encoded data removed]"
          },
          "metadata": {}
        }
      ]
    },
    {
      "cell_type": "markdown",
      "source": [
        "## For the data preprocessing I will perform some simple steps:\n",
        "1. Remove the punctuation, text related to url, special characters, make the text lowercase\n",
        "2. Remove stopwords (words that are very common in texts, but that don't have a significant meaning on their own)\n",
        "3. Lemmatize the words. This will merge those words that are similar in meaning like (i.e. the word \"cats\" and the word \"cat\")\n",
        "4. Tokenize the text. The words and certain other signs get converted to tokens that can be used in i.e. machine learning\n",
        "5. Make sequences of the tokens. These convert the tokenize sentences into sequences (arrays)\n",
        "6. Pad the sequences so all of them have the same size (this simplifies a lot, since the input values for the model have always the same shape).\n",
        "7. Split the training dataset into train and validation sets"
      ],
      "metadata": {
        "id": "BEHZSSSt7m2Y"
      }
    },
    {
      "cell_type": "markdown",
      "source": [
        "Before going forward with the vectorization of the text, I will clean the text and remove stop words"
      ],
      "metadata": {
        "id": "dCPnzf0Q0dwq"
      }
    },
    {
      "cell_type": "code",
      "source": [
        "# Taking this def from https://www.kaggle.com/tanulsingh077\n",
        "def clean_text(text):\n",
        "    '''Make text lowercase, remove text in square brackets,remove links,remove punctuation\n",
        "    and remove words containing numbers.'''\n",
        "    text = str(text).lower()\n",
        "    text = re.sub('\\[.*?\\]', '', text)\n",
        "    text = re.sub('https?://\\S+|www\\.\\S+', '', text)\n",
        "    text = re.sub('<.*?>+', '', text)\n",
        "    text = re.sub('[%s]' % re.escape(string.punctuation), '', text)\n",
        "    text = re.sub('\\n', '', text)\n",
        "    text = re.sub('\\w*\\d\\w*', '', text)\n",
        "    return text"
      ],
      "metadata": {
        "id": "ABRl4ul80q3b"
      },
      "execution_count": null,
      "outputs": []
    },
    {
      "cell_type": "code",
      "source": [
        "df.text = df.text.apply(lambda x: clean_text(x))"
      ],
      "metadata": {
        "id": "EN1abg1r1DwW"
      },
      "execution_count": null,
      "outputs": []
    },
    {
      "cell_type": "code",
      "source": [
        "print(df.text.head())"
      ],
      "metadata": {
        "colab": {
          "base_uri": "https://localhost:8080/"
        },
        "id": "oO7qVF601jwq",
        "outputId": "4e2eded3-db97-452b-e77a-037ce5fe60ea"
      },
      "execution_count": null,
      "outputs": [
        {
          "output_type": "stream",
          "name": "stdout",
          "text": [
            "0    our deeds are the reason of this earthquake ma...\n",
            "1                forest fire near la ronge sask canada\n",
            "2    all residents asked to shelter in place are be...\n",
            "3     people receive wildfires evacuation orders in...\n",
            "4    just got sent this photo from ruby alaska as s...\n",
            "Name: text, dtype: object\n"
          ]
        }
      ]
    },
    {
      "cell_type": "code",
      "source": [
        "nltk.download('stopwords')\n",
        "nltk.download('punkt')\n",
        "\n",
        "def filter_words(text):\n",
        "  filtered_words = [ word for word in text.split(' ') if word not in stopwords.words('english')]\n",
        "  return filtered_words"
      ],
      "metadata": {
        "colab": {
          "base_uri": "https://localhost:8080/"
        },
        "id": "G_vbGZrg2VyI",
        "outputId": "45577807-7ed1-48b5-9791-af73c17c52b1"
      },
      "execution_count": null,
      "outputs": [
        {
          "output_type": "stream",
          "name": "stderr",
          "text": [
            "[nltk_data] Downloading package stopwords to /root/nltk_data...\n",
            "[nltk_data]   Package stopwords is already up-to-date!\n",
            "[nltk_data] Downloading package punkt to /root/nltk_data...\n",
            "[nltk_data]   Package punkt is already up-to-date!\n"
          ]
        }
      ]
    },
    {
      "cell_type": "code",
      "source": [
        "nltk.download('wordnet')\n",
        "lemmatizer = WordNetLemmatizer()\n",
        "\n",
        "def lemmatize_words(list_of_words):\n",
        "  lemmatized_words = [ lemmatizer.lemmatize(word) for word in list_of_words]\n",
        "  return lemmatized_words"
      ],
      "metadata": {
        "colab": {
          "base_uri": "https://localhost:8080/"
        },
        "id": "nmq5yXwsfl2y",
        "outputId": "586f1302-0124-4dcd-fd96-cca325bc3e2c"
      },
      "execution_count": null,
      "outputs": [
        {
          "output_type": "stream",
          "name": "stderr",
          "text": [
            "[nltk_data] Downloading package wordnet to /root/nltk_data...\n",
            "[nltk_data]   Package wordnet is already up-to-date!\n"
          ]
        }
      ]
    },
    {
      "cell_type": "code",
      "source": [
        "def clean_words(text):\n",
        "  filtered_text = filter_words(text)\n",
        "  lemmatized_text = lemmatize_words(filtered_text)\n",
        "  return ' '.join(lemmatized_text)"
      ],
      "metadata": {
        "id": "6ck6fPqUgKDa"
      },
      "execution_count": null,
      "outputs": []
    },
    {
      "cell_type": "code",
      "source": [
        "df['clean_text'] = df['text'].apply(lambda x: clean_words(x))"
      ],
      "metadata": {
        "id": "pgK2hYvB5r_z"
      },
      "execution_count": null,
      "outputs": []
    },
    {
      "cell_type": "code",
      "source": [
        "print(df['clean_text'].head(5))"
      ],
      "metadata": {
        "colab": {
          "base_uri": "https://localhost:8080/"
        },
        "id": "FheL5gz22Rr-",
        "outputId": "c6fbd861-e144-4544-d1fd-04fde64420f1"
      },
      "execution_count": null,
      "outputs": [
        {
          "output_type": "stream",
          "name": "stdout",
          "text": [
            "0           deed reason earthquake may allah forgive u\n",
            "1                forest fire near la ronge sask canada\n",
            "2    resident asked shelter place notified officer ...\n",
            "3     people receive wildfire evacuation order cali...\n",
            "4    got sent photo ruby alaska smoke wildfire pour...\n",
            "Name: clean_text, dtype: object\n"
          ]
        }
      ]
    },
    {
      "cell_type": "code",
      "source": [
        "# This function is part of my own previous delivery in DTSA 5010. https://colab.research.google.com/drive/1Gxp8SQomP5er2ttXt5ZlBs8SMGjqiAnD#scrollTo=lZPV1dzzInJH\n",
        "counter = Counter()\n",
        "longest_text = 0\n",
        "for sentence in df['clean_text']:\n",
        "  words = word_tokenize(sentence)\n",
        "  words = [word for word in words]\n",
        "  sentence_size = len(words)\n",
        "  if (sentence_size > longest_text):\n",
        "    longest_text = sentence_size\n",
        "  counter.update(words)"
      ],
      "metadata": {
        "id": "3jmwW3_y6MaR"
      },
      "execution_count": null,
      "outputs": []
    },
    {
      "cell_type": "code",
      "source": [
        "# I take a look at the most common words in the cleaned text just to make sure they are as expected\n",
        "most_common = counter.most_common(20)\n",
        "words= []\n",
        "number_words = []\n",
        "df_frequency = pd.DataFrame(most_common, columns=['Word', 'Count'])\n",
        "sns.barplot(data=df_frequency, x=\"Count\", y=\"Word\", orient = 'h', errorbar=None)\n",
        "plt.style.use(\"dark_background\")\n",
        "plt.show()\n",
        "print(\"Longest tweet: \", longest_text)"
      ],
      "metadata": {
        "colab": {
          "base_uri": "https://localhost:8080/",
          "height": 467
        },
        "id": "OAmDH1FW0zX0",
        "outputId": "c32f03ff-026e-4c96-bf9c-75423665f870"
      },
      "execution_count": null,
      "outputs": [
        {
          "output_type": "display_data",
          "data": {
            "text/plain": [
              "<Figure size 640x480 with 1 Axes>"
            ],
            "image/png": "[encoded data removed]"
          },
          "metadata": {}
        },
        {
          "output_type": "stream",
          "name": "stdout",
          "text": [
            "Longest tweet:  23\n"
          ]
        }
      ]
    },
    {
      "cell_type": "code",
      "source": [
        "max_nr_words = 5000\n",
        "tokenizer = Tokenizer(num_words=max_nr_words)\n",
        "tokenizer.fit_on_texts(df['clean_text'])\n",
        "sequences = tokenizer.texts_to_sequences(df['clean_text'])"
      ],
      "metadata": {
        "id": "tgxcKil384ze"
      },
      "execution_count": null,
      "outputs": []
    },
    {
      "cell_type": "code",
      "source": [
        "padded_sequences = pad_sequences(sequences, longest_text)"
      ],
      "metadata": {
        "id": "XTszxIN17GPm"
      },
      "execution_count": null,
      "outputs": []
    },
    {
      "cell_type": "markdown",
      "source": [
        "## Splitting the DataFrame in train and validation data"
      ],
      "metadata": {
        "id": "SXpqgkC392r-"
      }
    },
    {
      "cell_type": "code",
      "source": [
        "X = padded_sequences\n",
        "y = df['target']\n",
        "X_train, X_val, y_train, y_val = train_test_split(X, y, test_size=0.2, random_state=42, shuffle=True)"
      ],
      "metadata": {
        "id": "jna7XULT99bn"
      },
      "execution_count": null,
      "outputs": []
    },
    {
      "cell_type": "code",
      "source": [
        "print(\"Size training sample: \",  X_train.shape)\n",
        "print(\"Size validation sample: \", X_val.shape)"
      ],
      "metadata": {
        "colab": {
          "base_uri": "https://localhost:8080/"
        },
        "id": "G62CCIVt_BEO",
        "outputId": "17b29dc8-8153-484e-e730-224476fd44c2"
      },
      "execution_count": null,
      "outputs": [
        {
          "output_type": "stream",
          "name": "stdout",
          "text": [
            "Size training sample:  (6090, 23)\n",
            "Size validation sample:  (1523, 23)\n"
          ]
        }
      ]
    },
    {
      "cell_type": "markdown",
      "source": [
        "## Model Architecture\n",
        "I am using two models with similar architecture, the only difference is that one uses a LSTM layer and the other a GRU layer.\n",
        "\n",
        "The models are like this:\n",
        "Embedding -> Dropout -> LSTM (or GRU) -> Dropout -> Dense (activation: sigmoid)\n",
        "\n",
        "Embedding was a bit difficult to understand, but I found an explanation here: https://medium.com/analytics-vidhya/understanding-embedding-layer-in-keras-bbe3ff1327ce"
      ],
      "metadata": {
        "id": "4axDRR-7-dDN"
      }
    },
    {
      "cell_type": "markdown",
      "source": [
        "### I just made a simple model with some common values just to see how it worked"
      ],
      "metadata": {
        "id": "5URUusTYADLU"
      }
    },
    {
      "cell_type": "code",
      "source": [
        "lstm_model = Sequential()\n",
        "lstm_model.add(Embedding(max_nr_words, 16, input_length=longest_text))\n",
        "lstm_model.add(Dropout(0.2))\n",
        "lstm_model.add(LSTM(128, return_sequences=False))\n",
        "lstm_model.add(Dropout(0.2))\n",
        "lstm_model.add(Dense(1, activation='sigmoid'))"
      ],
      "metadata": {
        "id": "v_TW5Xl4-VmM"
      },
      "execution_count": null,
      "outputs": []
    },
    {
      "cell_type": "code",
      "source": [
        "lstm_model.compile(loss= 'binary_crossentropy', optimizer = 'adam', metrics = ['accuracy'])"
      ],
      "metadata": {
        "id": "J_0nCTR6EbsF"
      },
      "execution_count": null,
      "outputs": []
    },
    {
      "cell_type": "code",
      "source": [
        "lstm_model.fit(X_train, y_train, epochs=5, validation_data=(X_val, y_val))"
      ],
      "metadata": {
        "colab": {
          "base_uri": "https://localhost:8080/"
        },
        "id": "m4eT5PgbEvQ_",
        "outputId": "b922c02c-84c0-4499-9664-5f30490079a8"
      },
      "execution_count": null,
      "outputs": [
        {
          "output_type": "stream",
          "name": "stdout",
          "text": [
            "Epoch 1/5\n",
            "191/191 [==============================] - 17s 56ms/step - loss: 0.5805 - accuracy: 0.6938 - val_loss: 0.4572 - val_accuracy: 0.7925\n",
            "Epoch 2/5\n",
            "191/191 [==============================] - 3s 18ms/step - loss: 0.4053 - accuracy: 0.8248 - val_loss: 0.4492 - val_accuracy: 0.7971\n",
            "Epoch 3/5\n",
            "191/191 [==============================] - 2s 11ms/step - loss: 0.3551 - accuracy: 0.8494 - val_loss: 0.4688 - val_accuracy: 0.7899\n",
            "Epoch 4/5\n",
            "191/191 [==============================] - 2s 8ms/step - loss: 0.3302 - accuracy: 0.8591 - val_loss: 0.5001 - val_accuracy: 0.7866\n",
            "Epoch 5/5\n",
            "191/191 [==============================] - 2s 10ms/step - loss: 0.3118 - accuracy: 0.8681 - val_loss: 0.5134 - val_accuracy: 0.7695\n"
          ]
        },
        {
          "output_type": "execute_result",
          "data": {
            "text/plain": [
              "<keras.src.callbacks.History at 0x79b55747be50>"
            ]
          },
          "metadata": {},
          "execution_count": 23
        }
      ]
    },
    {
      "cell_type": "markdown",
      "source": [
        "### I decided to use Keras Tuner to find the best parameters for embedding, dropouts, lstm units and the learning rates"
      ],
      "metadata": {
        "id": "_w_KUhEyAL1P"
      }
    },
    {
      "cell_type": "code",
      "source": [
        "# Using Keras Tuner to improve this simple model\n",
        "\n",
        "def model_builder(hp):\n",
        "  model = Sequential()\n",
        "  model.add(Embedding(max_nr_words, hp.Int('embedded_units', min_value=4, max_value=24, step=4), input_length=longest_text))\n",
        "  model.add(Dropout(hp.Float('drop_out_1', min_value=0.1, max_value=0.4, step=0.1)))\n",
        "  model.add(LSTM(hp.Int('lstm_units', min_value=32, max_value=128, step=32), return_sequences=False))\n",
        "  model.add(Dropout(hp.Float('drop_out_2', min_value=0.1, max_value=0.4, step=0.1)))\n",
        "  model.add(Dense(1, activation='sigmoid'))\n",
        "  model.compile(optimizer= Adam(hp.Choice('learning_rate', values=[1e-3, 1e-4, 1e-5])), loss='binary_crossentropy', metrics='accuracy')\n",
        "  return model"
      ],
      "metadata": {
        "id": "tujQM7UkG-2a"
      },
      "execution_count": null,
      "outputs": []
    },
    {
      "cell_type": "code",
      "source": [
        "tuner = kt.Hyperband(model_builder,\n",
        "                     objective='val_accuracy',\n",
        "                     max_epochs=10,\n",
        "                     factor=3,\n",
        "                     directory='/models',\n",
        "                     project_name='disaster_tweet')"
      ],
      "metadata": {
        "id": "0X2kV-yxIJ9S"
      },
      "execution_count": null,
      "outputs": []
    },
    {
      "cell_type": "code",
      "source": [
        "stop_early = tf.keras.callbacks.EarlyStopping(monitor='val_accuracy', patience=5)"
      ],
      "metadata": {
        "id": "Ia5eQU_EJHC0"
      },
      "execution_count": null,
      "outputs": []
    },
    {
      "cell_type": "code",
      "source": [
        "tuner.search(X_train, y_train, epochs=10, validation_split=0.1, callbacks=[stop_early])\n",
        "best_hps=tuner.get_best_hyperparameters(num_trials=1)[0]"
      ],
      "metadata": {
        "colab": {
          "base_uri": "https://localhost:8080/"
        },
        "id": "e5XAUYU0JcLh",
        "outputId": "ec13a11b-a2bf-477f-823c-d7e626f1c4c5"
      },
      "execution_count": null,
      "outputs": [
        {
          "output_type": "stream",
          "name": "stdout",
          "text": [
            "Trial 30 Complete [00h 00m 45s]\n",
            "val_accuracy: 0.7931034564971924\n",
            "\n",
            "Best val_accuracy So Far: 0.8160919547080994\n",
            "Total elapsed time: 00h 10m 09s\n"
          ]
        }
      ]
    },
    {
      "cell_type": "code",
      "source": [
        "# Print the best hyperparameters\n",
        "print(\"Best Hyperparameters:\")\n",
        "print(f\" - embedded_units: {best_hps.get('embedded_units')}\")\n",
        "print(f\" - drop_out_1: {best_hps.get('drop_out_1')}\")\n",
        "print(f\" - lstm_units: {best_hps.get('lstm_units')}\")\n",
        "print(f\" - drop_out_2: {best_hps.get('drop_out_2')}\")\n",
        "print(f\" - learning_rate: {best_hps.get('learning_rate')}\")"
      ],
      "metadata": {
        "colab": {
          "base_uri": "https://localhost:8080/"
        },
        "id": "N5ntjflAKkFj",
        "outputId": "ebc7497e-851c-48c9-a5bc-05ceb9f020ec"
      },
      "execution_count": null,
      "outputs": [
        {
          "output_type": "stream",
          "name": "stdout",
          "text": [
            "Best Hyperparameters:\n",
            " - embedded_units: 8\n",
            " - drop_out_1: 0.30000000000000004\n",
            " - lstm_units: 128\n",
            " - drop_out_2: 0.2\n",
            " - learning_rate: 0.001\n"
          ]
        }
      ]
    },
    {
      "cell_type": "code",
      "source": [
        "# Construct a model with the optimized hyperparameters (I did decided to adjust up the number of epochs and reduce the learning rate in an attemp to make the model training more stable)\n",
        "lstm_model_best = Sequential()\n",
        "lstm_model_best.add(Embedding(max_nr_words, 8, input_length=longest_text))\n",
        "lstm_model_best.add(Dropout(0.3))\n",
        "lstm_model_best.add(LSTM(128, return_sequences=False))\n",
        "lstm_model_best.add(Dropout(0.2))\n",
        "lstm_model_best.add(Dense(1, activation='sigmoid'))\n",
        "lstm_model_best.compile(loss= 'binary_crossentropy', optimizer = Adam(learning_rate=0.0001), metrics = ['accuracy'])\n",
        "\n",
        "history = lstm_model_best.fit(X_train, y_train, epochs=9, validation_data=(X_val, y_val))"
      ],
      "metadata": {
        "colab": {
          "base_uri": "https://localhost:8080/"
        },
        "id": "g2xeyO74ApQG",
        "outputId": "51d83050-9afd-4354-db68-4996f12a1dcc"
      },
      "execution_count": null,
      "outputs": [
        {
          "output_type": "stream",
          "name": "stdout",
          "text": [
            "Epoch 1/9\n",
            "191/191 [==============================] - 10s 43ms/step - loss: 0.6836 - accuracy: 0.5681 - val_loss: 0.6772 - val_accuracy: 0.5739\n",
            "Epoch 2/9\n",
            "191/191 [==============================] - 2s 12ms/step - loss: 0.6736 - accuracy: 0.5695 - val_loss: 0.6639 - val_accuracy: 0.5739\n",
            "Epoch 3/9\n",
            "191/191 [==============================] - 2s 10ms/step - loss: 0.6500 - accuracy: 0.6327 - val_loss: 0.6262 - val_accuracy: 0.6737\n",
            "Epoch 4/9\n",
            "191/191 [==============================] - 2s 10ms/step - loss: 0.5995 - accuracy: 0.7034 - val_loss: 0.5640 - val_accuracy: 0.7308\n",
            "Epoch 5/9\n",
            "191/191 [==============================] - 2s 10ms/step - loss: 0.5310 - accuracy: 0.7529 - val_loss: 0.5089 - val_accuracy: 0.7695\n",
            "Epoch 6/9\n",
            "191/191 [==============================] - 1s 7ms/step - loss: 0.4667 - accuracy: 0.7877 - val_loss: 0.4754 - val_accuracy: 0.7899\n",
            "Epoch 7/9\n",
            "191/191 [==============================] - 2s 8ms/step - loss: 0.4210 - accuracy: 0.8143 - val_loss: 0.4889 - val_accuracy: 0.7689\n",
            "Epoch 8/9\n",
            "191/191 [==============================] - 2s 8ms/step - loss: 0.4001 - accuracy: 0.8255 - val_loss: 0.4639 - val_accuracy: 0.7965\n",
            "Epoch 9/9\n",
            "191/191 [==============================] - 2s 8ms/step - loss: 0.3802 - accuracy: 0.8378 - val_loss: 0.4595 - val_accuracy: 0.7905\n"
          ]
        }
      ]
    },
    {
      "cell_type": "code",
      "source": [
        "# Visualizing accuracy vs epochs\n",
        "plt.plot(history.history['accuracy'])\n",
        "plt.plot(history.history['val_accuracy'])\n",
        "plt.title(\"Accuracy\")\n",
        "plt.legend([\"Accuracy\", \"Validation Accuracy\"],loc=\"lower right\")\n",
        "plt.show()"
      ],
      "metadata": {
        "colab": {
          "base_uri": "https://localhost:8080/",
          "height": 452
        },
        "id": "z8MvaefzBbGW",
        "outputId": "d78980cd-c90b-4ebf-8a2b-8b40ec49f29a"
      },
      "execution_count": null,
      "outputs": [
        {
          "output_type": "display_data",
          "data": {
            "text/plain": [
              "<Figure size 640x480 with 1 Axes>"
            ],
            "image/png": "[encoded data removed]"
          },
          "metadata": {}
        }
      ]
    },
    {
      "cell_type": "markdown",
      "source": [
        "### NB: I should have run hyperparameter tuning for the GRU model but for the sake of time, I used the same that the tuner found for the LSTM model"
      ],
      "metadata": {
        "id": "tUZaRxBRAd-N"
      }
    },
    {
      "cell_type": "code",
      "source": [
        "# Construct a model with the optimized hyperparameters\n",
        "gru_model = Sequential()\n",
        "gru_model.add(Embedding(max_nr_words, 20, input_length=longest_text))\n",
        "gru_model.add(Dropout(0.3))\n",
        "gru_model.add(GRU(128))\n",
        "gru_model.add(Dropout(0.2))\n",
        "gru_model.add(Dense(1, activation='sigmoid'))\n",
        "gru_model.compile(loss= 'binary_crossentropy', optimizer = Adam(learning_rate=0.0001), metrics = ['accuracy'])\n",
        "\n",
        "history_gru = gru_model.fit(X_train, y_train, epochs=6, validation_data=(X_val, y_val))"
      ],
      "metadata": {
        "colab": {
          "base_uri": "https://localhost:8080/"
        },
        "id": "XDyVF2s3BxCe",
        "outputId": "e09017f6-7e2a-48dc-ebe0-91273895ab31"
      },
      "execution_count": null,
      "outputs": [
        {
          "output_type": "stream",
          "name": "stdout",
          "text": [
            "Epoch 1/6\n",
            "191/191 [==============================] - 9s 39ms/step - loss: 0.6834 - accuracy: 0.5645 - val_loss: 0.6727 - val_accuracy: 0.5739\n",
            "Epoch 2/6\n",
            "191/191 [==============================] - 3s 16ms/step - loss: 0.6612 - accuracy: 0.5864 - val_loss: 0.6388 - val_accuracy: 0.6487\n",
            "Epoch 3/6\n",
            "191/191 [==============================] - 2s 8ms/step - loss: 0.5989 - accuracy: 0.7243 - val_loss: 0.5596 - val_accuracy: 0.7301\n",
            "Epoch 4/6\n",
            "191/191 [==============================] - 2s 11ms/step - loss: 0.4816 - accuracy: 0.7829 - val_loss: 0.4667 - val_accuracy: 0.7840\n",
            "Epoch 5/6\n",
            "191/191 [==============================] - 1s 7ms/step - loss: 0.4000 - accuracy: 0.8248 - val_loss: 0.4516 - val_accuracy: 0.7951\n",
            "Epoch 6/6\n",
            "191/191 [==============================] - 1s 7ms/step - loss: 0.3666 - accuracy: 0.8409 - val_loss: 0.4476 - val_accuracy: 0.7997\n"
          ]
        }
      ]
    },
    {
      "cell_type": "code",
      "source": [
        "# Visualizing accuracy vs epochs\n",
        "plt.plot(history_gru.history['accuracy'])\n",
        "plt.plot(history_gru.history['val_accuracy'])\n",
        "plt.title(\"Accuracy\")\n",
        "plt.legend([\"Accuracy\", \"Validation Accuracy\"],loc=\"lower right\")\n",
        "plt.show()"
      ],
      "metadata": {
        "colab": {
          "base_uri": "https://localhost:8080/",
          "height": 452
        },
        "id": "09lIzDVECCIb",
        "outputId": "93f22b54-41a9-43a7-9f88-45a4dbe5d54e"
      },
      "execution_count": null,
      "outputs": [
        {
          "output_type": "display_data",
          "data": {
            "text/plain": [
              "<Figure size 640x480 with 1 Axes>"
            ],
            "image/png": "[encoded data removed]"
          },
          "metadata": {}
        }
      ]
    },
    {
      "cell_type": "code",
      "source": [
        "y_pred_lstm = lstm_model_best.predict(X_val)\n",
        "y_pred_gru = gru_model.predict(X_val)"
      ],
      "metadata": {
        "id": "8CQ5XoNAKAQO",
        "colab": {
          "base_uri": "https://localhost:8080/"
        },
        "outputId": "d28f1f53-523f-43c7-b4d4-375906a8fdf9"
      },
      "execution_count": null,
      "outputs": [
        {
          "output_type": "stream",
          "name": "stdout",
          "text": [
            "48/48 [==============================] - 0s 3ms/step\n",
            "48/48 [==============================] - 1s 6ms/step\n"
          ]
        }
      ]
    },
    {
      "cell_type": "code",
      "source": [
        "\n",
        "y_val_array = y_val.to_numpy()\n",
        "\n",
        "y_pred_lstm = np.where(y_pred_lstm < 0.5, 0, 1)\n",
        "y_pred_gru = np.where(y_pred_gru < 0.5, 0, 1)\n",
        "\n",
        "y_pred_lstm_squeezed = np.squeeze(y_pred_lstm)\n",
        "y_pred_gru_squeezed = np.squeeze(y_pred_gru)\n",
        "\n",
        "confusion_matrix_lstm = metrics.confusion_matrix(y_val_array, y_pred_lstm_squeezed)\n",
        "confusion_matrix_gru = metrics.confusion_matrix(y_val_array, y_pred_gru_squeezed)"
      ],
      "metadata": {
        "id": "8pmH5OAzKZsh"
      },
      "execution_count": null,
      "outputs": []
    },
    {
      "cell_type": "code",
      "source": [
        "display_lstm = metrics.ConfusionMatrixDisplay(confusion_matrix = confusion_matrix_lstm, display_labels = [False, True])\n",
        "display_lstm.plot()\n",
        "plt.show()"
      ],
      "metadata": {
        "id": "qh1gc7-YM01d",
        "colab": {
          "base_uri": "https://localhost:8080/",
          "height": 449
        },
        "outputId": "46cb49c9-a205-4513-b2d2-89a51a0b24dd"
      },
      "execution_count": null,
      "outputs": [
        {
          "output_type": "display_data",
          "data": {
            "text/plain": [
              "<Figure size 640x480 with 2 Axes>"
            ],
            "image/png": "[encoded data removed]"
          },
          "metadata": {}
        }
      ]
    },
    {
      "cell_type": "code",
      "source": [
        "display_lstm = metrics.ConfusionMatrixDisplay(confusion_matrix = confusion_matrix_gru, display_labels = [False, True])\n",
        "display_lstm.plot()\n",
        "plt.show()"
      ],
      "metadata": {
        "colab": {
          "base_uri": "https://localhost:8080/",
          "height": 449
        },
        "id": "MnCdzUBTNQ5m",
        "outputId": "ab592482-1c75-4d3a-9046-0cc7c98bbae0"
      },
      "execution_count": null,
      "outputs": [
        {
          "output_type": "display_data",
          "data": {
            "text/plain": [
              "<Figure size 640x480 with 2 Axes>"
            ],
            "image/png": "[encoded data removed]"
          },
          "metadata": {}
        }
      ]
    },
    {
      "cell_type": "markdown",
      "source": [
        "## Result and analysis:\n",
        "1. The models were trained with few epochs. It was easy to see that the models have a clear tendency for overfitting. I tried to decrease the learning rate so the model would be able to learn the generalities of the texts, and avoiding overfitting.\n",
        "2. The GRU model needed less training and gave better results. From the confusion matrix I saw that it was better to classify tweets that are NOT related to real disasters. Since these tweets are a slight majority, the model performed better.\n",
        "3. I trained the models several times and found that they are a little bit sensitive to initial conditions. Validation accuracy could go from 0.77 to 0.81."
      ],
      "metadata": {
        "id": "eFbZ_myAA962"
      }
    },
    {
      "cell_type": "code",
      "source": [
        "# Predict from test\n",
        "df_test = pd.read_csv('/content/dataset/test.csv')\n",
        "df_test.text = df_test.text.apply(lambda x: clean_text(x))\n",
        "df_test['clean_text'] = df_test['text'].apply(lambda x: clean_words(x))\n"
      ],
      "metadata": {
        "id": "EU2ZPirmHtJi"
      },
      "execution_count": null,
      "outputs": []
    },
    {
      "cell_type": "code",
      "source": [
        "# Make sequences from Tokenizer\n",
        "sequences_test = tokenizer.texts_to_sequences(df_test['clean_text'])\n",
        "padded_sequences_test = pad_sequences(sequences_test, longest_text)\n",
        "X_test = padded_sequences_test\n",
        "y_test_lstm = lstm_model_best.predict(X_test)\n",
        "y_test_gru = gru_model.predict(X_test)\n",
        "\n",
        "y_test_lstm = np.where(y_test_lstm < 0.5, 0, 1)\n",
        "y_test_gru = np.where(y_test_gru < 0.5, 0, 1)\n",
        "\n",
        "#y_pred_lstm_squeezed = np.squeeze(y_pred_lstm)\n",
        "#y_pred_gru_squeezed = np.squeeze(y_pred_gru)"
      ],
      "metadata": {
        "colab": {
          "base_uri": "https://localhost:8080/"
        },
        "id": "nUL2P6u0JBdu",
        "outputId": "53a478f0-fe5b-4465-a956-c80d976a90df"
      },
      "execution_count": null,
      "outputs": [
        {
          "output_type": "stream",
          "name": "stdout",
          "text": [
            "102/102 [==============================] - 0s 2ms/step\n",
            "102/102 [==============================] - 0s 2ms/step\n"
          ]
        }
      ]
    },
    {
      "cell_type": "code",
      "source": [
        "test_lstm = df_test.copy()\n",
        "test_gru = df_test.copy()\n",
        "\n",
        "test_lstm['target'] = y_test_lstm\n",
        "test_gru['target'] = y_test_gru"
      ],
      "metadata": {
        "id": "dJlux92lKQv6"
      },
      "execution_count": null,
      "outputs": []
    },
    {
      "cell_type": "code",
      "source": [
        "test_lstm.drop([\"location\", \"keyword\", \"text\", \"clean_text\"], axis=1, inplace=True)\n",
        "test_gru.drop([\"location\", \"keyword\", \"text\", \"clean_text\"], axis=1, inplace=True)\n",
        "\n"
      ],
      "metadata": {
        "id": "wTkxM43VKzNt"
      },
      "execution_count": null,
      "outputs": []
    },
    {
      "cell_type": "code",
      "source": [
        "# Export the dataframe to a csv file and download the resulting file\n",
        "test_lstm.to_csv(\"submission_lstm.csv\", index=False)\n",
        "test_gru.to_csv(\"submission_gru.csv\", index=False)\n",
        "files.download(\"/content/submission_lstm.csv\")\n",
        "files.download(\"/content/submission_gru.csv\")"
      ],
      "metadata": {
        "colab": {
          "base_uri": "https://localhost:8080/",
          "height": 17
        },
        "id": "L8d1jfrBLeR3",
        "outputId": "364e7c14-4193-40dd-d173-e0b07fade2fe"
      },
      "execution_count": null,
      "outputs": [
        {
          "output_type": "display_data",
          "data": {
            "text/plain": [
              "<IPython.core.display.Javascript object>"
            ],
            "application/javascript": [
              "\n",
              "    async function download(id, filename, size) {\n",
              "      if (!google.colab.kernel.accessAllowed) {\n",
              "        return;\n",
              "      }\n",
              "      const div = document.createElement('div');\n",
              "      const label = document.createElement('label');\n",
              "      label.textContent = `Downloading \"${filename}\": `;\n",
              "      div.appendChild(label);\n",
              "      const progress = document.createElement('progress');\n",
              "      progress.max = size;\n",
              "      div.appendChild(progress);\n",
              "      document.body.appendChild(div);\n",
              "\n",
              "      const buffers = [];\n",
              "      let downloaded = 0;\n",
              "\n",
              "      const channel = await google.colab.kernel.comms.open(id);\n",
              "      // Send a message to notify the kernel that we're ready.\n",
              "      channel.send({})\n",
              "\n",
              "      for await (const message of channel.messages) {\n",
              "        // Send a message to notify the kernel that we're ready.\n",
              "        channel.send({})\n",
              "        if (message.buffers) {\n",
              "          for (const buffer of message.buffers) {\n",
              "            buffers.push(buffer);\n",
              "            downloaded += buffer.byteLength;\n",
              "            progress.value = downloaded;\n",
              "          }\n",
              "        }\n",
              "      }\n",
              "      const blob = new Blob(buffers, {type: 'application/binary'});\n",
              "      const a = document.createElement('a');\n",
              "      a.href = window.URL.createObjectURL(blob);\n",
              "      a.download = filename;\n",
              "      div.appendChild(a);\n",
              "      a.click();\n",
              "      div.remove();\n",
              "    }\n",
              "  "
            ]
          },
          "metadata": {}
        },
        {
          "output_type": "display_data",
          "data": {
            "text/plain": [
              "<IPython.core.display.Javascript object>"
            ],
            "application/javascript": [
              "download(\"download_e24cb52f-b762-4e17-acb9-5f72322205c1\", \"submission_lstm.csv\", 22746)"
            ]
          },
          "metadata": {}
        },
        {
          "output_type": "display_data",
          "data": {
            "text/plain": [
              "<IPython.core.display.Javascript object>"
            ],
            "application/javascript": [
              "\n",
              "    async function download(id, filename, size) {\n",
              "      if (!google.colab.kernel.accessAllowed) {\n",
              "        return;\n",
              "      }\n",
              "      const div = document.createElement('div');\n",
              "      const label = document.createElement('label');\n",
              "      label.textContent = `Downloading \"${filename}\": `;\n",
              "      div.appendChild(label);\n",
              "      const progress = document.createElement('progress');\n",
              "      progress.max = size;\n",
              "      div.appendChild(progress);\n",
              "      document.body.appendChild(div);\n",
              "\n",
              "      const buffers = [];\n",
              "      let downloaded = 0;\n",
              "\n",
              "      const channel = await google.colab.kernel.comms.open(id);\n",
              "      // Send a message to notify the kernel that we're ready.\n",
              "      channel.send({})\n",
              "\n",
              "      for await (const message of channel.messages) {\n",
              "        // Send a message to notify the kernel that we're ready.\n",
              "        channel.send({})\n",
              "        if (message.buffers) {\n",
              "          for (const buffer of message.buffers) {\n",
              "            buffers.push(buffer);\n",
              "            downloaded += buffer.byteLength;\n",
              "            progress.value = downloaded;\n",
              "          }\n",
              "        }\n",
              "      }\n",
              "      const blob = new Blob(buffers, {type: 'application/binary'});\n",
              "      const a = document.createElement('a');\n",
              "      a.href = window.URL.createObjectURL(blob);\n",
              "      a.download = filename;\n",
              "      div.appendChild(a);\n",
              "      a.click();\n",
              "      div.remove();\n",
              "    }\n",
              "  "
            ]
          },
          "metadata": {}
        },
        {
          "output_type": "display_data",
          "data": {
            "text/plain": [
              "<IPython.core.display.Javascript object>"
            ],
            "application/javascript": [
              "download(\"download_41cb62b6-d084-4311-96b4-720d8244ecb5\", \"submission_gru.csv\", 22746)"
            ]
          },
          "metadata": {}
        }
      ]
    },
    {
      "cell_type": "markdown",
      "source": [
        "## Conclusions:\n",
        "1. This assignment was very straight forward and gave a good initial exposure to the problems related to NLP (natural language processing).\n",
        "2. I have several improvements that I could have done in the data preprocessing: try a TweetTokenizer, try to use word embedding to give extra information about word similarity, replace some of the abreviations/mispellings from the most common words i.e. im to I am or u to you\n",
        "3. Another possible improvement could be balancing the labels in the training and validation datasets\n",
        "4. Use out of vocabulary (OOV) in the tokenizer.\n",
        "5. The models were very simple and very prone to overfitting\n",
        "6. The GRU model was faster to train and made better predictions\n"
      ],
      "metadata": {
        "id": "jbGRHd5TCC_j"
      }
    },
    {
      "cell_type": "markdown",
      "source": [
        "### Some references:\n",
        "https://www.kaggle.com/code/andreshg/nlp-glove-bert-tf-idf-lstm-explained\n",
        "\n",
        "https://spotintelligence.com/2023/01/11/lstm-in-nlp-tasks/\n",
        "\n",
        "https://www.geeksforgeeks.org/removing-stop-words-nltk-python/\n",
        "\n",
        "https://www.w3schools.com/python/python_ml_confusion_matrix.asp\n",
        "\n",
        "https://www.tensorflow.org/api_docs/python/tf/keras/utils/pad_sequences"
      ],
      "metadata": {
        "id": "oterf-EIE2kr"
      }
    }
  ]
}